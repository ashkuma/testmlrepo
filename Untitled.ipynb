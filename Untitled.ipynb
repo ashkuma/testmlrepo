{
 "cells": [
  {
   "cell_type": "markdown",
   "metadata": {
    "toc": true
   },
   "source": [
    "<h1>title<span class=\"tocSkip\"></span></h1>\n",
    "<div class=\"toc\">undefined</div>"
   ]
  },
  {
   "cell_type": "markdown",
   "metadata": {
    "toc": true
   },
   "source": [
    "{\"DefaultSubscription\": {\"a73025d7-e747-42fd-8ad3-57fab072f830\": \"Visual Studio Enterprise\"}, \"ACRAccount\": [{\"adminUserEnabled\": true, \"creationDate\": \"2019-12-12T03:51:56.728678+00:00\", \"id\": \"/subscriptions/a73025d7-e747-42fd-8ad3-57fab072f830/resourceGroups/Default-ApplicationInsights-CentralUS/providers/Microsoft.ContainerRegistry/registries/ashkumamachi44e5eefe\", \"location\": \"southcentralus\", \"loginServer\": \"ashkumamachi44e5eefe.azurecr.io\", \"name\": \"ashkumamachi44e5eefe\", \"networkRuleSet\": null, \"policies\": {\"quarantinePolicy\": {\"status\": \"disabled\"}, \"retentionPolicy\": {\"days\": 7, \"lastUpdatedTime\": \"2019-12-12T03:51:59.999916+00:00\", \"status\": \"disabled\"}, \"trustPolicy\": {\"status\": \"disabled\", \"type\": \"Notary\"}}, \"provisioningState\": \"Succeeded\", \"resourceGroup\": \"Default-ApplicationInsights-CentralUS\", \"sku\": {\"name\": \"Basic\", \"tier\": \"Basic\"}, \"status\": null, \"storageAccount\": null, \"tags\": {}, \"type\": \"Microsoft.ContainerRegistry/registries\"}, {\"adminUserEnabled\": true, \"creationDate\": \"2019-11-08T03:43:41.109085+00:00\", \"id\": \"/subscriptions/a73025d7-e747-42fd-8ad3-57fab072f830/resourceGroups/Default-ApplicationInsights-CentralUS/providers/Microsoft.ContainerRegistry/registries/secondcontainer1\", \"location\": \"centralus\", \"loginServer\": \"secondcontainer1.azurecr.io\", \"name\": \"secondcontainer1\", \"networkRuleSet\": null, \"policies\": {\"quarantinePolicy\": {\"status\": \"disabled\"}, \"retentionPolicy\": {\"days\": 7, \"lastUpdatedTime\": \"2019-11-08T03:43:42.413425+00:00\", \"status\": \"disabled\"}, \"trustPolicy\": {\"status\": \"disabled\", \"type\": \"Notary\"}}, \"provisioningState\": \"Succeeded\", \"resourceGroup\": \"Default-ApplicationInsights-CentralUS\", \"sku\": {\"name\": \"Basic\", \"tier\": \"Basic\"}, \"status\": null, \"storageAccount\": null, \"tags\": {}, \"type\": \"Microsoft.ContainerRegistry/registries\"}], \"AKSCluster\": []}\n"
   ]
  },
  {
   "cell_type": "code",
   "execution_count": null,
   "metadata": {},
   "outputs": [],
   "source": []
  },
  {
   "cell_type": "code",
   "execution_count": null,
   "metadata": {},
   "outputs": [],
   "source": []
  }
 ],
 "metadata": {
  "kernelspec": {
   "display_name": "Python 3",
   "language": "python",
   "name": "python3"
  },
  "language_info": {
   "codemirror_mode": {
    "name": "ipython",
    "version": 3
   },
   "file_extension": ".py",
   "mimetype": "text/x-python",
   "name": "python",
   "nbconvert_exporter": "python",
   "pygments_lexer": "ipython3",
   "version": "3.6.6"
  },
  "varInspector": {
   "cols": {
    "lenName": "16",
    "lenType": "16",
    "lenVar": 40
   },
   "kernels_config": {
    "python": {
     "delete_cmd_postfix": "",
     "delete_cmd_prefix": "del ",
     "library": "var_list.py",
     "varRefreshCmd": "print(var_dic_list())"
    },
    "r": {
     "delete_cmd_postfix": ") ",
     "delete_cmd_prefix": "rm(",
     "library": "var_list.r",
     "varRefreshCmd": "cat(var_dic_list()) "
    }
   },
   "types_to_exclude": [
    "module",
    "function",
    "builtin_function_or_method",
    "instance",
    "_Feature"
   ],
   "window_display": false
  }
 },
 "nbformat": 4,
 "nbformat_minor": 2
}
